{
 "cells": [
  {
   "cell_type": "code",
   "execution_count": 1,
   "metadata": {
    "collapsed": false
   },
   "outputs": [],
   "source": [
    "from __future__ import print_function\n",
    "import matplotlib.pyplot as plt\n",
    "from pycocotools.coco import COCO\n",
    "from pycocotools.cocoeval import COCOeval\n",
    "import os\n",
    "import sys\n",
    "import zipfile\n",
    "import urllib.request\n",
    "import shutil\n",
    "import numpy as np\n",
    "import skimage.io as io\n",
    "import pylab\n",
    "pylab.rcParams['figure.figsize'] = (10.0, 8.0)\n",
    "\n",
    "%matplotlib inline\n"
   ]
  },
  {
   "cell_type": "code",
   "execution_count": 2,
   "metadata": {},
   "outputs": [
    {
     "output_type": "stream",
     "name": "stdout",
     "text": [
      "os: nt\nsys: 3.8.5 (default, Sep  3 2020, 21:29:08) [MSC v.1916 64 bit (AMD64)]\nnumpy: 1.17.4, D:\\Software\\anaconda3\\envs\\rnd\\lib\\site-packages\\numpy\\__init__.py\nnotebook_dir = d:\\Workspace\\git\\RnDProject\\cocoapi\\PythonAPI\\demos\nd:\\Workspace\\git\\RnDProject\\cocoapi\n"
     ]
    }
   ],
   "source": [
    "# Record package versions for reproducibility\n",
    "\n",
    "print(\"os: %s\" % os.name)\n",
    "print(\"sys: %s\" % sys.version)\n",
    "print(\"numpy: %s, %s\" % (np.__version__, np.__file__))\n",
    "\n",
    "notebook_dir = os.path.abspath('')\n",
    "print(\"notebook_dir =\", notebook_dir)\n",
    "\n",
    "# project_dir = os.path.abspath(os.path.join(os.path.dirname(notebook_dir), \"..\", \"..\"))\n",
    "project_dir = os.path.abspath(\"../..\")\n",
    "print(project_dir)\n",
    "# sys.path.insert(0, project_dir)"
   ]
  },
  {
   "cell_type": "code",
   "execution_count": 3,
   "metadata": {
    "collapsed": false
   },
   "outputs": [
    {
     "output_type": "stream",
     "name": "stdout",
     "text": [
      "Running demo for *bbox* results.\n"
     ]
    }
   ],
   "source": [
    "annType = ['segm','bbox','keypoints']\n",
    "annType = annType[1]      #specify type here\n",
    "prefix = 'person_keypoints' if annType=='keypoints' else 'instances'\n",
    "print('Running demo for *{}* results.'.format(annType))"
   ]
  },
  {
   "cell_type": "code",
   "execution_count": 4,
   "metadata": {
    "collapsed": false
   },
   "outputs": [
    {
     "output_type": "stream",
     "name": "stdout",
     "text": [
      "d:\\Workspace\\git\\RnDProject\\cocoapi\\data\\coco\\annotations\nd:\\Workspace\\git\\RnDProject\\cocoapi\\data\\coco\\annotations\\instances_val2014.json\nd:\\Workspace\\git\\RnDProject\\cocoapi\\data\\coco\\annotations_trainval2014.zip\nhttp://images.cocodataset.org/annotations/annotations_trainval2014.zip\n"
     ]
    }
   ],
   "source": [
    "# dataDir='../'\n",
    "# dataType='val2014'\n",
    "# annFile = '%s/annotations/%s_%s.json'%(dataDir,prefix,dataType)\n",
    "\n",
    "# Setup data paths\n",
    "dataDir = os.path.abspath('../../data/coco')\n",
    "year = \"2014\"\n",
    "dataType = 'val{}'.format(year)\n",
    "\n",
    "annDir = os.path.join(dataDir, 'annotations')\n",
    "annZipFile = os.path.join(dataDir, 'annotations_trainval{}.zip'.format(year))\n",
    "annFile = os.path.join(annDir, 'instances_{}.json'.format(dataType))\n",
    "annURL = 'http://images.cocodataset.org/annotations/annotations_train{}.zip'.format(dataType)\n",
    "print(annDir)\n",
    "print(annFile)\n",
    "print(annZipFile)\n",
    "print(annURL)\n"
   ]
  },
  {
   "cell_type": "code",
   "execution_count": 5,
   "metadata": {},
   "outputs": [],
   "source": [
    "# # Download data if not available locally\n",
    "# if not os.path.exists(annDir):\n",
    "#     os.makedirs(annDir)\n",
    "# if not os.path.exists(annFile):\n",
    "#     if not os.path.exists(annZipFile):\n",
    "#         print (\"Downloading zipped annotations to \" + annZipFile + \" ...\")\n",
    "#         with urllib.request.urlopen(annURL) as resp, open(annZipFile, 'wb') as out:\n",
    "#             shutil.copyfileobj(resp, out)\n",
    "#         print (\"... done downloading.\")\n",
    "#     print (\"Unzipping \" + annZipFile)\n",
    "#     with zipfile.ZipFile(annZipFile,\"r\") as zip_ref:\n",
    "#         zip_ref.extractall(dataDir)\n",
    "#     print (\"... done unzipping\")\n",
    "# print (\"Will use annotations in \" + annFile)"
   ]
  },
  {
   "cell_type": "code",
   "execution_count": 6,
   "metadata": {},
   "outputs": [
    {
     "output_type": "stream",
     "name": "stdout",
     "text": [
      "loading annotations into memory...\n",
      "Done (t=5.70s)\n",
      "creating index...\n",
      "index created!\n"
     ]
    }
   ],
   "source": [
    "#initialize COCO ground truth api\n",
    "cocoGt=COCO(annFile)"
   ]
  },
  {
   "cell_type": "code",
   "execution_count": 7,
   "metadata": {
    "collapsed": false
   },
   "outputs": [
    {
     "output_type": "stream",
     "name": "stdout",
     "text": [
      "d:\\Workspace\\git\\RnDProject\\cocoapi\\results\\instances_val2014_fakebbox100_results.json\nLoading and preparing results...\nDONE (t=0.03s)\ncreating index...\nindex created!\n"
     ]
    }
   ],
   "source": [
    "#initialize COCO detections api\n",
    "# resFile='%s/results/%s_%s_fake%s100_results.json'\n",
    "# resFile = resFile%(dataDir, prefix, dataType, annType)\n",
    "resFile = os.path.normpath(\"{}/results/{}_{}_fake{}100_results.json\".format(project_dir, prefix, dataType, annType))\n",
    "print(resFile)\n",
    "cocoDt=cocoGt.loadRes(resFile)"
   ]
  },
  {
   "cell_type": "code",
   "execution_count": 8,
   "metadata": {
    "collapsed": false
   },
   "outputs": [],
   "source": [
    "imgIds=sorted(cocoGt.getImgIds())\n",
    "imgIds=imgIds[0:100]\n",
    "imgId = imgIds[np.random.randint(100)]"
   ]
  },
  {
   "cell_type": "code",
   "execution_count": 9,
   "metadata": {
    "collapsed": false
   },
   "outputs": [
    {
     "output_type": "stream",
     "name": "stdout",
     "text": [
      "Running per image evaluation...\n",
      "Evaluate annotation type *bbox*\n",
      "DONE (t=0.28s).\n",
      "Accumulating evaluation results...\n",
      "DONE (t=0.32s).\n",
      " Average Precision  (AP) @[ IoU=0.50:0.95 | area=   all | maxDets=100 ] = 0.505\n",
      " Average Precision  (AP) @[ IoU=0.50      | area=   all | maxDets=100 ] = 0.697\n",
      " Average Precision  (AP) @[ IoU=0.75      | area=   all | maxDets=100 ] = 0.573\n",
      " Average Precision  (AP) @[ IoU=0.50:0.95 | area= small | maxDets=100 ] = 0.586\n",
      " Average Precision  (AP) @[ IoU=0.50:0.95 | area=medium | maxDets=100 ] = 0.519\n",
      " Average Precision  (AP) @[ IoU=0.50:0.95 | area= large | maxDets=100 ] = 0.501\n",
      " Average Recall     (AR) @[ IoU=0.50:0.95 | area=   all | maxDets=  1 ] = 0.387\n",
      " Average Recall     (AR) @[ IoU=0.50:0.95 | area=   all | maxDets= 10 ] = 0.594\n",
      " Average Recall     (AR) @[ IoU=0.50:0.95 | area=   all | maxDets=100 ] = 0.595\n",
      " Average Recall     (AR) @[ IoU=0.50:0.95 | area= small | maxDets=100 ] = 0.640\n",
      " Average Recall     (AR) @[ IoU=0.50:0.95 | area=medium | maxDets=100 ] = 0.566\n",
      " Average Recall     (AR) @[ IoU=0.50:0.95 | area= large | maxDets=100 ] = 0.564\n"
     ]
    }
   ],
   "source": [
    "# running evaluation\n",
    "cocoEval = COCOeval(cocoGt,cocoDt,annType)\n",
    "cocoEval.params.imgIds  = imgIds\n",
    "cocoEval.evaluate()\n",
    "cocoEval.accumulate()\n",
    "cocoEval.summarize()"
   ]
  },
  {
   "cell_type": "code",
   "execution_count": null,
   "metadata": {},
   "outputs": [],
   "source": []
  }
 ],
 "metadata": {
  "kernelspec": {
   "name": "python3",
   "display_name": "Python 3.8.5 64-bit ('rnd': conda)",
   "metadata": {
    "interpreter": {
     "hash": "2e17dc992bc9b44b930d797b9d6a9b945a5deb1befa38c1173108ff887e86404"
    }
   }
  },
  "language_info": {
   "codemirror_mode": {
    "name": "ipython",
    "version": 2
   },
   "file_extension": ".py",
   "mimetype": "text/x-python",
   "name": "python",
   "nbconvert_exporter": "python",
   "pygments_lexer": "ipython2",
   "version": "3.8.5-final"
  }
 },
 "nbformat": 4,
 "nbformat_minor": 0
}