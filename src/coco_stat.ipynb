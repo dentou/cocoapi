{
 "cells": [
  {
   "cell_type": "code",
   "execution_count": 1,
   "id": "exciting-chest",
   "metadata": {},
   "outputs": [],
   "source": [
    "# from __future__ import print_function\n",
    "from IPython.display import display\n",
    "from pycocotools.coco import COCO\n",
    "import sys\n",
    "import os\n",
    "import urllib.request\n",
    "import zipfile\n",
    "import shutil\n",
    "import numpy as np\n",
    "import skimage.io as io\n",
    "import matplotlib\n",
    "import matplotlib.pyplot as plt\n",
    "import pylab\n",
    "import pathlib\n",
    "pylab.rcParams['figure.figsize'] = (8.0, 10.0)\n",
    "%matplotlib inline"
   ]
  },
  {
   "cell_type": "code",
   "execution_count": 2,
   "id": "enclosed-kingston",
   "metadata": {},
   "outputs": [
    {
     "name": "stdout",
     "output_type": "stream",
     "text": [
      "os: nt\n",
      "sys: 3.8.5 (default, Sep  3 2020, 21:29:08) [MSC v.1916 64 bit (AMD64)]\n",
      "numpy: 1.20.1, D:\\Software\\anaconda3\\envs\\rnd\\lib\\site-packages\\numpy\\__init__.py\n",
      "matplotlib backend:  module://ipykernel.pylab.backend_inline\n",
      "notebook_dir = D:\\Workspace\\git\\RnDProject\\cocoapi\\src\n"
     ]
    }
   ],
   "source": [
    "# Record package versions for reproducibility\n",
    "\n",
    "print(\"os: %s\" % os.name)\n",
    "print(\"sys: %s\" % sys.version)\n",
    "print(\"numpy: %s, %s\" % (np.__version__, np.__file__))\n",
    "\n",
    "print(\"matplotlib backend: \", matplotlib.get_backend())\n",
    "\n",
    "notebook_dir = os.path.abspath('')\n",
    "print(\"notebook_dir =\", notebook_dir)\n",
    "\n",
    "# project_dir = os.path.abspath(os.path.join(os.path.dirname(notebook_dir), \"..\", \"..\"))\n",
    "# print(project_dir)\n",
    "# sys.path.insert(0, project_dir)"
   ]
  },
  {
   "cell_type": "code",
   "execution_count": 13,
   "id": "hazardous-buffer",
   "metadata": {},
   "outputs": [
    {
     "name": "stdout",
     "output_type": "stream",
     "text": [
      "D:\\Workspace\\git\\RnDProject\\cocoapi\\data\\coco\\annotations\n",
      "D:\\Workspace\\git\\RnDProject\\cocoapi\\data\\coco\\annotations\\instances_train2017.json\n"
     ]
    }
   ],
   "source": [
    "# dataDir='..'\n",
    "# dataType='val2017'\n",
    "# annFile='{}/annotations/instances_{}.json'.format(dataDir,dataType)\n",
    "\n",
    "# Setup data paths\n",
    "dataDir = os.path.abspath('../data/coco')\n",
    "year = \"2017\"\n",
    "dataType = 'train{}'.format(year)\n",
    "\n",
    "annDir = os.path.join(dataDir, 'annotations')\n",
    "# annZipFile = os.path.join(dataDir, 'annotations_trainval{}.zip'.format(year))\n",
    "annFile = os.path.join(annDir, 'instances_{}.json'.format(dataType))\n",
    "# annURL = 'http://images.cocodataset.org/annotations/annotations_train{}.zip'.format(dataType)\n",
    "print(annDir)\n",
    "print(annFile)"
   ]
  },
  {
   "cell_type": "code",
   "execution_count": 14,
   "id": "differential-language",
   "metadata": {},
   "outputs": [
    {
     "name": "stdout",
     "output_type": "stream",
     "text": [
      "loading annotations into memory...\n",
      "Done (t=29.75s)\n",
      "creating index...\n",
      "index created!\n"
     ]
    }
   ],
   "source": [
    "# initialize COCO api for instance annotations\n",
    "coco=COCO(annFile)"
   ]
  },
  {
   "cell_type": "code",
   "execution_count": 15,
   "id": "fitted-combination",
   "metadata": {},
   "outputs": [],
   "source": [
    "# dir(coco)"
   ]
  },
  {
   "cell_type": "code",
   "execution_count": 16,
   "id": "chemical-acquisition",
   "metadata": {},
   "outputs": [
    {
     "name": "stdout",
     "output_type": "stream",
     "text": [
      "description: COCO 2017 Dataset\n",
      "url: http://cocodataset.org\n",
      "version: 1.0\n",
      "year: 2017\n",
      "contributor: COCO Consortium\n",
      "date_created: 2017/09/01\n"
     ]
    }
   ],
   "source": [
    "coco.info()"
   ]
  },
  {
   "cell_type": "code",
   "execution_count": 17,
   "id": "hollywood-salmon",
   "metadata": {},
   "outputs": [
    {
     "name": "stdout",
     "output_type": "stream",
     "text": [
      "{'supercategory': 'person', 'id': 1, 'name': 'person'}\n",
      "COCO categories with indices: 80\n",
      " 1 --- person\n",
      " 2 --- bicycle\n",
      " 3 --- car\n",
      " 4 --- motorcycle\n",
      " 5 --- airplane\n",
      " 6 --- bus\n",
      " 7 --- train\n",
      " 8 --- truck\n",
      " 9 --- boat\n",
      "10 --- traffic light\n",
      "11 --- fire hydrant\n",
      "13 --- stop sign\n",
      "14 --- parking meter\n",
      "15 --- bench\n",
      "16 --- bird\n",
      "17 --- cat\n",
      "18 --- dog\n",
      "19 --- horse\n",
      "20 --- sheep\n",
      "21 --- cow\n",
      "22 --- elephant\n",
      "23 --- bear\n",
      "24 --- zebra\n",
      "25 --- giraffe\n",
      "27 --- backpack\n",
      "28 --- umbrella\n",
      "31 --- handbag\n",
      "32 --- tie\n",
      "33 --- suitcase\n",
      "34 --- frisbee\n",
      "35 --- skis\n",
      "36 --- snowboard\n",
      "37 --- sports ball\n",
      "38 --- kite\n",
      "39 --- baseball bat\n",
      "40 --- baseball glove\n",
      "41 --- skateboard\n",
      "42 --- surfboard\n",
      "43 --- tennis racket\n",
      "44 --- bottle\n",
      "46 --- wine glass\n",
      "47 --- cup\n",
      "48 --- fork\n",
      "49 --- knife\n",
      "50 --- spoon\n",
      "51 --- bowl\n",
      "52 --- banana\n",
      "53 --- apple\n",
      "54 --- sandwich\n",
      "55 --- orange\n",
      "56 --- broccoli\n",
      "57 --- carrot\n",
      "58 --- hot dog\n",
      "59 --- pizza\n",
      "60 --- donut\n",
      "61 --- cake\n",
      "62 --- chair\n",
      "63 --- couch\n",
      "64 --- potted plant\n",
      "65 --- bed\n",
      "67 --- dining table\n",
      "70 --- toilet\n",
      "72 --- tv\n",
      "73 --- laptop\n",
      "74 --- mouse\n",
      "75 --- remote\n",
      "76 --- keyboard\n",
      "77 --- cell phone\n",
      "78 --- microwave\n",
      "79 --- oven\n",
      "80 --- toaster\n",
      "81 --- sink\n",
      "82 --- refrigerator\n",
      "84 --- book\n",
      "85 --- clock\n",
      "86 --- vase\n",
      "87 --- scissors\n",
      "88 --- teddy bear\n",
      "89 --- hair drier\n",
      "90 --- toothbrush\n"
     ]
    }
   ],
   "source": [
    "cat_indices = coco.getCatIds()\n",
    "cats = sorted(coco.loadCats(cat_indices), key=lambda x: x[\"id\"])\n",
    "# display(cats)\n",
    "print(cats[0])\n",
    "print(f\"COCO categories with indices: {len(cats)}\")\n",
    "for c in cats:\n",
    "    print(f\"{c['id']:2} --- {c['name']}\")\n",
    "\n"
   ]
  },
  {
   "cell_type": "code",
   "execution_count": 18,
   "id": "outstanding-marks",
   "metadata": {},
   "outputs": [
    {
     "name": "stdout",
     "output_type": "stream",
     "text": [
      "COCO supercategories: 12\n",
      "animal, electronic, vehicle, kitchen, sports, food, indoor, person, accessory, furniture, appliance, outdoor\n",
      "\n",
      "Number of categories per supercategory:\n",
      "      animal(10) -> bird, cat, dog, horse, sheep, cow, elephant, bear, zebra, giraffe\n",
      "  electronic( 6) -> tv, laptop, mouse, remote, keyboard, cell phone\n",
      "     vehicle( 8) -> bicycle, car, motorcycle, airplane, bus, train, truck, boat\n",
      "     kitchen( 7) -> bottle, wine glass, cup, fork, knife, spoon, bowl\n",
      "      sports(10) -> frisbee, skis, snowboard, sports ball, kite, baseball bat, baseball glove, skateboard, surfboard, tennis racket\n",
      "        food(10) -> banana, apple, sandwich, orange, broccoli, carrot, hot dog, pizza, donut, cake\n",
      "      indoor( 7) -> book, clock, vase, scissors, teddy bear, hair drier, toothbrush\n",
      "      person( 1) -> person\n",
      "   accessory( 5) -> backpack, umbrella, handbag, tie, suitcase\n",
      "   furniture( 6) -> chair, couch, potted plant, bed, dining table, toilet\n",
      "   appliance( 5) -> microwave, oven, toaster, sink, refrigerator\n",
      "     outdoor( 5) -> traffic light, fire hydrant, stop sign, parking meter, bench\n",
      "\n",
      "Total number of images in train2017: 118287\n",
      "Total number of annotations in train2017: 860001\n",
      "Number of images per category:\n",
      "      animal(25739) -> bird(3237), cat(4114), dog(4385), horse(2941), sheep(1529), cow(1968), elephant(2143), bear(960), zebra(1916), giraffe(2546)\n",
      "  electronic(19955) -> tv(4561), laptop(3524), mouse(1876), remote(3076), keyboard(2115), cell phone(4803)\n",
      "     vehicle(38683) -> bicycle(3252), car(12251), motorcycle(3502), airplane(2986), bus(3952), train(3588), truck(6127), boat(3025)\n",
      "     kitchen(38744) -> bottle(8501), wine glass(2533), cup(9189), fork(3555), knife(4326), spoon(3529), bowl(7111)\n",
      "      sports(28934) -> frisbee(2184), skis(3082), snowboard(1654), sports ball(4262), kite(2261), baseball bat(2506), baseball glove(2629), skateboard(3476), surfboard(3486), tennis racket(3394)\n",
      "        food(20351) -> banana(2243), apple(1586), sandwich(2365), orange(1699), broccoli(1939), carrot(1683), hot dog(1222), pizza(3166), donut(1523), cake(2925)\n",
      "      indoor(17867) -> book(5332), clock(4659), vase(3593), scissors(947), teddy bear(2140), hair drier(189), toothbrush(1007)\n",
      "      person(64115) -> person(64115)\n",
      "   accessory(22549) -> backpack(5528), umbrella(3968), handbag(6841), tie(3810), suitcase(2402)\n",
      "   furniture(40521) -> chair(12774), couch(4423), potted plant(4452), bed(3682), dining table(11837), toilet(3353)\n",
      "   appliance(11679) -> microwave(1547), oven(2877), toaster(217), sink(4678), refrigerator(2360)\n",
      "     outdoor(13859) -> traffic light(4139), fire hydrant(1711), stop sign(1734), parking meter(705), bench(5570)\n"
     ]
    }
   ],
   "source": [
    "supercat_names = set([c[\"supercategory\"] for c in cats])\n",
    "print(\"COCO supercategories: {}\\n{}\\n\".format(\n",
    "    len(supercat_names),\n",
    "    \", \".join(supercat_names)\n",
    "))\n",
    "\n",
    "print(\"Number of categories per supercategory:\")\n",
    "for name in supercat_names:\n",
    "    c_ids = coco.getCatIds(supNms=name)\n",
    "    c_nms = [c[\"name\"] for c in coco.loadCats(c_ids)]\n",
    "    print(\"{:>12}({:>2}) -> {}\".format(\n",
    "        name,\n",
    "        len(c_nms),\n",
    "        \", \".join(c_nms)\n",
    "))\n",
    "print()\n",
    "\n",
    "print(f\"Total number of images in {dataType}: {len(coco.getImgIds())}\")\n",
    "print(f\"Total number of annotations in {dataType}: {len(coco.getAnnIds())}\")\n",
    "\n",
    "\n",
    "print(\"Number of images per category:\")\n",
    "for name in supercat_names:\n",
    "    subcat_ids = coco.getCatIds(supNms=name)\n",
    "    subcat_nms = [c[\"name\"] for c in coco.loadCats(subcat_ids)]\n",
    "    subcat_image_counts = [len(coco.getImgIds(catIds=id)) for id in subcat_ids]\n",
    "    cat_counts = ', '.join([f\"{subcat_nm}({image_count})\" for subcat_nm, image_count in zip(subcat_nms, subcat_image_counts)])\n",
    "    print(\"{:>12}({}) -> {}\".format(\n",
    "        name,\n",
    "        sum(subcat_image_counts),\n",
    "        cat_counts\n",
    "    ))\n"
   ]
  },
  {
   "cell_type": "markdown",
   "id": "insured-occupation",
   "metadata": {},
   "source": [
    "## Statistics"
   ]
  },
  {
   "cell_type": "code",
   "execution_count": 19,
   "id": "wired-rugby",
   "metadata": {},
   "outputs": [],
   "source": [
    "RESULT_DIR = os.path.normpath(\"../results/statistics\")\n",
    "PLOT_DIR = os.path.join(RESULT_DIR, \"plots\")\n",
    "\n",
    "pathlib.Path(PLOT_DIR).mkdir(parents=True, exist_ok=True)"
   ]
  },
  {
   "cell_type": "code",
   "execution_count": 20,
   "id": "olympic-doctor",
   "metadata": {},
   "outputs": [
    {
     "data": {
      "image/png": "[encoded data removed]",
      "text/plain": [
       "<Figure size 1440x720 with 1 Axes>"
      ]
     },
     "metadata": {
      "needs_background": "light"
     },
     "output_type": "display_data"
    }
   ],
   "source": [
    "subcat_indices = []\n",
    "subcat_names = []\n",
    "subcat_image_counts = []\n",
    "for name in supercat_names:\n",
    "    s_ids = coco.getCatIds(supNms=name)\n",
    "    subcat_indices.extend(s_ids)\n",
    "    subcat_names.extend([c[\"name\"] for c in coco.loadCats(s_ids)])\n",
    "    subcat_image_counts.extend([len(coco.getImgIds(catIds=id)) for id in s_ids])\n",
    "    \n",
    "subcat_indices, subcat_names, subcat_image_counts = zip(*sorted(zip(subcat_indices, subcat_names, subcat_image_counts), key=lambda x: x[0]))\n",
    "\n",
    "    \n",
    "assert len(subcat_indices) == len(subcat_image_counts), f\"{len(subcat_ids)}, {len(subcat_image_counts)}\"\n",
    "assert len(subcat_indices) == len(subcat_names), f\"{len(subcat_ids)}, {len(subcat_names)}\"\n",
    "\n",
    "plt.figure(figsize=(20, 10))\n",
    "plt.title(\"Distribution of images\", fontsize=20)\n",
    "plt.bar([str(x) for x in subcat_indices], subcat_image_counts)\n",
    "plt.xlabel(\"Class ID\", fontsize=16)\n",
    "plt.ylabel(\"Number of images\", fontsize=16)\n",
    "plt.savefig(os.path.join(PLOT_DIR, f\"coco_{dataType}_dist_img\"))"
   ]
  },
  {
   "cell_type": "code",
   "execution_count": 21,
   "id": "introductory-twins",
   "metadata": {},
   "outputs": [
    {
     "name": "stdout",
     "output_type": "stream",
     "text": [
      "{'segmentation': [[267.03, 243.78, 314.59, 154.05, 357.84, 136.76, 374.05, 104.32, 410.81, 110.81, 429.19, 131.35, 420.54, 165.95, 451.89, 209.19, 464.86, 240.54, 480.0, 253.51, 484.32, 263.24, 496.22, 271.89, 484.32, 278.38, 438.92, 257.84, 401.08, 216.76, 370.81, 247.03, 414.05, 277.3, 433.51, 304.32, 443.24, 323.78, 400.0, 362.7, 376.22, 375.68, 400.0, 418.92, 394.59, 424.32, 337.3, 382.16, 337.3, 371.35, 388.11, 327.03, 341.62, 301.08, 311.35, 276.22, 304.86, 263.24, 294.05, 249.19]], 'area': 28292.086249999993, 'iscrowd': 0, 'image_id': 537548, 'bbox': [267.03, 104.32, 229.19, 320.0], 'category_id': 1, 'id': 183020}\n"
     ]
    },
    {
     "data": {
      "image/png": "[encoded data removed]",
      "text/plain": [
       "<Figure size 1440x720 with 1 Axes>"
      ]
     },
     "metadata": {
      "needs_background": "light"
     },
     "output_type": "display_data"
    },
    {
     "data": {
      "image/png": "[encoded data removed]",
      "text/plain": [
       "<Figure size 1440x720 with 1 Axes>"
      ]
     },
     "metadata": {
      "needs_background": "light"
     },
     "output_type": "display_data"
    }
   ],
   "source": [
    "print(coco.loadAnns(coco.getAnnIds(catIds=1)[0])[0])\n",
    "subcat_indices = []\n",
    "subcat_names = []\n",
    "subcat_annotation_counts = []\n",
    "for name in supercat_names:\n",
    "    s_ids = coco.getCatIds(supNms=name)\n",
    "    subcat_indices.extend(s_ids)\n",
    "    subcat_names.extend([c[\"name\"] for c in coco.loadCats(s_ids)])\n",
    "    subcat_annotation_counts.extend([len(coco.getAnnIds(catIds=id)) for id in s_ids])\n",
    "    \n",
    "subcat_indices, subcat_names, subcat_annotation_counts = zip(*sorted(zip(subcat_indices, subcat_names, subcat_annotation_counts), key=lambda x: x[0]))\n",
    "\n",
    "    \n",
    "assert len(subcat_indices) == len(subcat_annotation_counts), f\"{len(subcat_ids)}, {len(subcat_annotation_counts)}\"\n",
    "assert len(subcat_indices) == len(subcat_names), f\"{len(subcat_ids)}, {len(subcat_names)}\"\n",
    "\n",
    "plt.figure(figsize=(20, 10))\n",
    "plt.title(\"Distribution of annotations\", fontsize=22)\n",
    "plt.bar([str(x) for x in subcat_indices], subcat_annotation_counts)\n",
    "plt.xlabel(\"Class ID\", fontsize=16)\n",
    "plt.ylabel(\"Number of annotations\", fontsize=16)\n",
    "plt.savefig(os.path.join(PLOT_DIR, f\"coco_{dataType}_dist_ann\"))\n",
    "\n",
    "\n",
    "plt.figure(figsize=(20, 10))\n",
    "plt.title(\"Average frequency of appearance per class\", fontsize=22)\n",
    "plt.bar([str(x) for x in subcat_indices], [ann/img for ann, img in zip(subcat_annotation_counts, subcat_image_counts)])\n",
    "plt.xlabel(\"Class ID\", fontsize=16)\n",
    "plt.ylabel(\"Average frequency\", fontsize=16)\n",
    "plt.savefig(os.path.join(PLOT_DIR, f\"coco_{dataType}_freq\"))"
   ]
  },
  {
   "cell_type": "code",
   "execution_count": null,
   "id": "global-reminder",
   "metadata": {},
   "outputs": [],
   "source": []
  },
  {
   "cell_type": "code",
   "execution_count": null,
   "id": "casual-negative",
   "metadata": {},
   "outputs": [],
   "source": []
  }
 ],
 "metadata": {
  "kernelspec": {
   "display_name": "Python 3",
   "language": "python",
   "name": "python3"
  },
  "language_info": {
   "codemirror_mode": {
    "name": "ipython",
    "version": 3
   },
   "file_extension": ".py",
   "mimetype": "text/x-python",
   "name": "python",
   "nbconvert_exporter": "python",
   "pygments_lexer": "ipython3",
   "version": "3.8.5"
  }
 },
 "nbformat": 4,
 "nbformat_minor": 5
}
